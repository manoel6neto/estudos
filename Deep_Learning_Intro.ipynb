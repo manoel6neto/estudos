{
  "nbformat": 4,
  "nbformat_minor": 0,
  "metadata": {
    "colab": {
      "name": "Deep Learning Intro",
      "version": "0.3.2",
      "provenance": [],
      "collapsed_sections": [],
      "include_colab_link": true
    },
    "kernelspec": {
      "name": "python2",
      "display_name": "Python 2"
    },
    "accelerator": "GPU"
  },
  "cells": [
    {
      "cell_type": "markdown",
      "metadata": {
        "id": "view-in-github",
        "colab_type": "text"
      },
      "source": [
        "<a href=\"https://colab.research.google.com/github/manoel6neto/estudos/blob/master/Deep_Learning_Intro.ipynb\" target=\"_parent\"><img src=\"https://colab.research.google.com/assets/colab-badge.svg\" alt=\"Open In Colab\"/></a>"
      ]
    },
    {
      "cell_type": "markdown",
      "metadata": {
        "id": "odi2vIMHC3Rm",
        "colab_type": "text"
      },
      "source": [
        "# Deep Learning: The Good, the Bad and the Ugly\n",
        "\n",
        "This notebook was created for PhD Open lectures given in June 2018 at the University of Warsaw. The slides for the lectures are available [here](http://phdopen.mimuw.edu.pl/lato18/w5s/DeepLearning.pdf) and the full recording [here on YouTube](https://www.youtube.com/channel/UCvMN-HLvvVa6lUXijCKFlqQ) - take a look at it if you need more explanation!"
      ]
    },
    {
      "cell_type": "markdown",
      "metadata": {
        "id": "ir4JzdPlsD9M",
        "colab_type": "text"
      },
      "source": [
        "This notebook was created for PhD Open lectures given in June 2018 at the University of Warsaw. The slides for the lectures are available [here](http://phdopen.mimuw.edu.pl/lato18/w5s/DeepLearning.pdf) and the full recording [here on YouTube](https://www.youtube.com/channel/UCvMN-HLvvVa6lUXijCKFlqQ) - take a look at it if you need more explanation!"
      ]
    },
    {
      "cell_type": "code",
      "metadata": {
        "id": "OPGni6fuvoTj",
        "colab_type": "code",
        "colab": {}
      },
      "source": [
        "# Install deps.\n",
        "!pip install -q -U tensor2tensor\n",
        "!pip install -q tensorflow matplotlib\n"
      ],
      "execution_count": 0,
      "outputs": []
    },
    {
      "cell_type": "code",
      "metadata": {
        "id": "oILRLCWN_16u",
        "colab_type": "code",
        "colab": {}
      },
      "source": [
        "# Imports we need.\n",
        "import tensorflow as tf\n",
        "import matplotlib.pyplot as plt\n",
        "import numpy as np\n",
        "import os\n",
        "import collections\n",
        "import random\n",
        "import six\n",
        "\n",
        "from tensor2tensor import models\n",
        "from tensor2tensor import problems\n",
        "from tensor2tensor.layers import common_attention\n",
        "from tensor2tensor.layers import common_layers\n",
        "from tensor2tensor.utils import trainer_lib\n",
        "from tensor2tensor.utils import t2t_model\n",
        "from tensor2tensor.utils import registry\n",
        "from tensor2tensor.utils import metrics\n",
        "from tensor2tensor.utils import learning_rate\n",
        "from tensor2tensor.utils import optimize\n",
        "\n",
        "# TF session\n",
        "sess = tf.Session()\n",
        "\n",
        "# Other setup\n",
        "Modes = tf.estimator.ModeKeys\n",
        "\n",
        "# Setup some directories\n",
        "data_dir = os.path.expanduser(\"~/t2t/data\")\n",
        "tmp_dir = os.path.expanduser(\"~/t2t/tmp\")\n",
        "train_dir = os.path.expanduser(\"~/t2t/train\")\n",
        "checkpoint_dir = os.path.expanduser(\"~/t2t/checkpoints\")\n",
        "tf.gfile.MakeDirs(data_dir)\n",
        "tf.gfile.MakeDirs(tmp_dir)\n",
        "tf.gfile.MakeDirs(train_dir)\n",
        "tf.gfile.MakeDirs(checkpoint_dir)\n",
        "gs_data_dir = \"gs://tensor2tensor-data\"\n",
        "gs_ckpt_dir = \"gs://tensor2tensor-checkpoints/\""
      ],
      "execution_count": 0,
      "outputs": []
    },
    {
      "cell_type": "markdown",
      "metadata": {
        "id": "0a69r1KDiZDe",
        "colab_type": "text"
      },
      "source": [
        "# Download MNIST and inspect it"
      ]
    },
    {
      "cell_type": "code",
      "metadata": {
        "id": "JKc2uSk6WX5e",
        "colab_type": "code",
        "outputId": "ef5e8d10-bb85-44cb-934b-6532b6fcd32d",
        "colab": {
          "base_uri": "https://localhost:8080/",
          "height": 217
        }
      },
      "source": [
        "# Fetch the MNIST problem\n",
        "mnist_problem = problems.problem(\"image_mnist\")\n",
        "# The generate_data method of a problem will download data and process it into\n",
        "# a standard format ready for training and evaluation.\n",
        "mnist_problem.generate_data(data_dir, tmp_dir)"
      ],
      "execution_count": 0,
      "outputs": [
        {
          "output_type": "stream",
          "text": [
            "INFO:tensorflow:Not downloading, file already found: /content/t2t/tmp/train-images-idx3-ubyte.gz\n",
            "INFO:tensorflow:Not downloading, file already found: /content/t2t/tmp/train-labels-idx1-ubyte.gz\n",
            "INFO:tensorflow:Not downloading, file already found: /content/t2t/tmp/t10k-images-idx3-ubyte.gz\n",
            "INFO:tensorflow:Not downloading, file already found: /content/t2t/tmp/t10k-labels-idx1-ubyte.gz\n",
            "INFO:tensorflow:Not downloading, file already found: /content/t2t/tmp/train-images-idx3-ubyte.gz\n",
            "INFO:tensorflow:Not downloading, file already found: /content/t2t/tmp/train-labels-idx1-ubyte.gz\n",
            "INFO:tensorflow:Not downloading, file already found: /content/t2t/tmp/t10k-images-idx3-ubyte.gz\n",
            "INFO:tensorflow:Not downloading, file already found: /content/t2t/tmp/t10k-labels-idx1-ubyte.gz\n",
            "INFO:tensorflow:Skipping generator because outputs files exist\n",
            "INFO:tensorflow:Skipping generator because outputs files exist\n",
            "INFO:tensorflow:Skipping shuffle because output files exist\n"
          ],
          "name": "stdout"
        }
      ]
    },
    {
      "cell_type": "code",
      "metadata": {
        "id": "VW6HCRANFPYV",
        "colab_type": "code",
        "outputId": "9e11ee18-5dcb-4bec-be23-b05c45b0f8a2",
        "colab": {
          "base_uri": "https://localhost:8080/",
          "height": 402
        }
      },
      "source": [
        "# Now let's see the training MNIST data as Tensors.\n",
        "mnist_data = mnist_problem.dataset(Modes.TRAIN, data_dir)\n",
        "mnist_example_tensors = mnist_data.make_one_shot_iterator().get_next()\n",
        "mnist_example = sess.run(mnist_example_tensors)\n",
        "image = mnist_example[\"inputs\"]\n",
        "label = mnist_example[\"targets\"]\n",
        "\n",
        "plt.imshow(image[:, :, 0].astype(np.float32), cmap=plt.get_cmap('gray'))\n",
        "print(\"Label: %d\" % label)"
      ],
      "execution_count": 0,
      "outputs": [
        {
          "output_type": "stream",
          "text": [
            "INFO:tensorflow:Reading data files from /content/t2t/data/image_mnist-train*\n",
            "INFO:tensorflow:partition: 0 num_data_files: 10\n",
            "Label: 5\n"
          ],
          "name": "stdout"
        },
        {
          "output_type": "display_data",
          "data": {
            "image/png": "[encoded data removed]",
            "text/plain": [
              "<matplotlib.figure.Figure at 0x7f43a91788d0>"
            ]
          },
          "metadata": {
            "tags": []
          }
        }
      ]
    },
    {
      "cell_type": "markdown",
      "metadata": {
        "id": "gXL7_bVH49Kl",
        "colab_type": "text"
      },
      "source": [
        "# Basic MNIST model."
      ]
    },
    {
      "cell_type": "code",
      "metadata": {
        "id": "jQlCd98qijmO",
        "colab_type": "code",
        "colab": {}
      },
      "source": [
        "# One-off all code together.\n",
        "\n",
        "# Data.\n",
        "BATCH_SIZE = 100\n",
        "data_batches = mnist_data.repeat().batch(BATCH_SIZE).make_one_shot_iterator()\n",
        "batch = data_batches.get_next()\n",
        "x, y = batch[\"inputs\"], batch[\"targets\"]\n",
        "x = tf.reshape(x, [BATCH_SIZE, 28*28])  # Height and width on channels.\n",
        "y = tf.squeeze(y, axis=1)  # Bogus dimension.\n",
        "# Model.\n",
        "hidden_size = 128\n",
        "h = tf.layers.dense(x, hidden_size, activation=tf.nn.relu, name=\"hidden\")\n",
        "o = tf.layers.dense(h, 10, activation=tf.nn.relu, name=\"output\")\n",
        "loss = tf.nn.sparse_softmax_cross_entropy_with_logits(logits=o, labels=y)\n",
        "accuracy = tf.to_float(tf.equal(tf.argmax(o, axis=-1), y))\n",
        "loss_t, accuracy_t = tf.reduce_mean(loss), tf.reduce_mean(accuracy)\n",
        "# Gradients.\n",
        "train_op = tf.train.AdamOptimizer().minimize(loss_t)\n",
        "sess.run(tf.global_variables_initializer())"
      ],
      "execution_count": 0,
      "outputs": []
    },
    {
      "cell_type": "code",
      "metadata": {
        "id": "37NrUjoulXJz",
        "colab_type": "code",
        "outputId": "736de3f1-4be0-4d69-8251-e166b91bfe32",
        "colab": {
          "base_uri": "https://localhost:8080/",
          "height": 235
        }
      },
      "source": [
        "# Train.\n",
        "num_steps = 1200  #  2 epochs on 60K examples.\n",
        "for step in range(num_steps):\n",
        "  _, loss, accuracy = sess.run([train_op, loss_t, accuracy_t])\n",
        "  if step % 100 == 0:\n",
        "    print(\"Step %d loss %.4f accuracy %.2f\" % (step, loss, accuracy))"
      ],
      "execution_count": 0,
      "outputs": [
        {
          "output_type": "stream",
          "text": [
            "Step 0 loss 2.5827 accuracy 0.09\n",
            "Step 100 loss 0.7940 accuracy 0.69\n",
            "Step 200 loss 0.4990 accuracy 0.84\n",
            "Step 300 loss 0.3487 accuracy 0.85\n",
            "Step 400 loss 0.3698 accuracy 0.86\n",
            "Step 500 loss 0.4084 accuracy 0.85\n",
            "Step 600 loss 0.4476 accuracy 0.85\n",
            "Step 700 loss 0.4722 accuracy 0.83\n",
            "Step 800 loss 0.2416 accuracy 0.92\n",
            "Step 900 loss 0.3838 accuracy 0.84\n",
            "Step 1000 loss 0.2252 accuracy 0.92\n",
            "Step 1100 loss 0.3039 accuracy 0.89\n"
          ],
          "name": "stdout"
        }
      ]
    },
    {
      "cell_type": "code",
      "metadata": {
        "id": "xilLpmrK6wMB",
        "colab_type": "code",
        "outputId": "fb12da5f-0ddf-4c91-82e6-68689fc207ba",
        "colab": {
          "base_uri": "https://localhost:8080/",
          "height": 290
        }
      },
      "source": [
        "# Once again, all refactored and with reset.\n",
        "\n",
        "# Reset.\n",
        "sess.close()\n",
        "tf.reset_default_graph()\n",
        "sess = tf.Session()\n",
        "\n",
        "# Data.\n",
        "problem = problems.problem(\"image_mnist\")\n",
        "problem.generate_data(data_dir, tmp_dir)\n",
        "BATCH_SIZE = 100\n",
        "train_data = problem.dataset(Modes.TRAIN, data_dir)\n",
        "train_batches = train_data.repeat().batch(BATCH_SIZE)\n",
        "train_batch = train_batches.make_one_shot_iterator().get_next()\n",
        "eval_data = problem.dataset(Modes.EVAL, data_dir)\n",
        "eval_batches = eval_data.repeat().batch(BATCH_SIZE)\n",
        "eval_batch = eval_batches.make_one_shot_iterator().get_next()\n",
        "\n",
        "# Model\n",
        "def model(batch, mode):\n",
        "  with tf.variable_scope(\"mymodel\", reuse=mode == Modes.EVAL):\n",
        "    # Inputs.\n",
        "    x, y = batch[\"inputs\"], batch[\"targets\"]\n",
        "    x = tf.reshape(x, [BATCH_SIZE, 28*28])  # Height and width on channels.\n",
        "    y = tf.squeeze(y, axis=1)  # Bogus dimension.\n",
        "    # Body.\n",
        "    hidden_size = 128\n",
        "    h = tf.layers.dense(x, hidden_size, activation=tf.nn.relu, name=\"hidden\")\n",
        "    o = tf.layers.dense(h, 10, activation=tf.nn.relu, name=\"output\")\n",
        "    # Loss and accuracy.\n",
        "    loss = tf.nn.sparse_softmax_cross_entropy_with_logits(logits=o, labels=y)\n",
        "    accuracy = tf.to_float(tf.equal(tf.argmax(o, axis=-1), y))\n",
        "    return tf.reduce_mean(loss), tf.reduce_mean(accuracy)\n",
        "\n",
        "# Model for train.\n",
        "train_loss, train_accuracy = model(train_batch, Modes.TRAIN)\n",
        "# Gradients.\n",
        "train_op = tf.train.AdamOptimizer().minimize(train_loss)\n",
        "# Model for eval.\n",
        "eval_loss, eval_accuracy = model(eval_batch, Modes.EVAL)"
      ],
      "execution_count": 0,
      "outputs": [
        {
          "output_type": "stream",
          "text": [
            "INFO:tensorflow:Not downloading, file already found: /content/t2t/tmp/train-images-idx3-ubyte.gz\n",
            "INFO:tensorflow:Not downloading, file already found: /content/t2t/tmp/train-labels-idx1-ubyte.gz\n",
            "INFO:tensorflow:Not downloading, file already found: /content/t2t/tmp/t10k-images-idx3-ubyte.gz\n",
            "INFO:tensorflow:Not downloading, file already found: /content/t2t/tmp/t10k-labels-idx1-ubyte.gz\n",
            "INFO:tensorflow:Not downloading, file already found: /content/t2t/tmp/train-images-idx3-ubyte.gz\n",
            "INFO:tensorflow:Not downloading, file already found: /content/t2t/tmp/train-labels-idx1-ubyte.gz\n",
            "INFO:tensorflow:Not downloading, file already found: /content/t2t/tmp/t10k-images-idx3-ubyte.gz\n",
            "INFO:tensorflow:Not downloading, file already found: /content/t2t/tmp/t10k-labels-idx1-ubyte.gz\n",
            "INFO:tensorflow:Skipping generator because outputs files exist\n",
            "INFO:tensorflow:Skipping generator because outputs files exist\n",
            "INFO:tensorflow:Skipping shuffle because output files exist\n",
            "INFO:tensorflow:Reading data files from /content/t2t/data/image_mnist-train*\n",
            "INFO:tensorflow:partition: 0 num_data_files: 10\n",
            "INFO:tensorflow:Reading data files from /content/t2t/data/image_mnist-dev*\n",
            "INFO:tensorflow:partition: 0 num_data_files: 1\n"
          ],
          "name": "stdout"
        }
      ]
    },
    {
      "cell_type": "code",
      "metadata": {
        "id": "lYiY9Qz09ZUl",
        "colab_type": "code",
        "outputId": "5be5102e-6e1a-47e0-82ec-47ce36a6e578",
        "colab": {
          "base_uri": "https://localhost:8080/",
          "height": 490
        }
      },
      "source": [
        "# Train.\n",
        "sess.run(tf.global_variables_initializer())\n",
        "num_steps = 1200  #  2 epochs on 60K examples.\n",
        "for step in range(num_steps + 1):\n",
        "  _, loss, accuracy = sess.run([train_op, train_loss, train_accuracy])\n",
        "  if step % 100 == 0:\n",
        "    print(\"Step %d train loss %.4f accuracy %.2f\" % (step, loss, accuracy))\n",
        "    loss, accuracy = sess.run([eval_loss, eval_accuracy])\n",
        "    print(\"Step %d eval loss %.4f accuracy %.2f\" % (step, loss, accuracy))\n"
      ],
      "execution_count": 0,
      "outputs": [
        {
          "output_type": "stream",
          "text": [
            "Step 0 train loss 2.5899 accuracy 0.10\n",
            "Step 0 eval loss 2.3572 accuracy 0.14\n",
            "Step 100 train loss 0.2564 accuracy 0.94\n",
            "Step 100 eval loss 0.2812 accuracy 0.89\n",
            "Step 200 train loss 0.2011 accuracy 0.93\n",
            "Step 200 eval loss 0.1887 accuracy 0.93\n",
            "Step 300 train loss 0.2766 accuracy 0.91\n",
            "Step 300 eval loss 0.1942 accuracy 0.96\n",
            "Step 400 train loss 0.1238 accuracy 0.96\n",
            "Step 400 eval loss 0.1705 accuracy 0.95\n",
            "Step 500 train loss 0.1382 accuracy 0.95\n",
            "Step 500 eval loss 0.2202 accuracy 0.95\n",
            "Step 600 train loss 0.0463 accuracy 0.98\n",
            "Step 600 eval loss 0.1340 accuracy 0.96\n",
            "Step 700 train loss 0.0500 accuracy 0.98\n",
            "Step 700 eval loss 0.1345 accuracy 0.96\n",
            "Step 800 train loss 0.0859 accuracy 0.96\n",
            "Step 800 eval loss 0.1104 accuracy 0.97\n",
            "Step 900 train loss 0.0481 accuracy 0.99\n",
            "Step 900 eval loss 0.0404 accuracy 0.99\n",
            "Step 1000 train loss 0.0367 accuracy 1.00\n",
            "Step 1000 eval loss 0.1569 accuracy 0.93\n",
            "Step 1100 train loss 0.2330 accuracy 0.96\n",
            "Step 1100 eval loss 0.1891 accuracy 0.95\n",
            "Step 1200 train loss 0.0358 accuracy 0.99\n",
            "Step 1200 eval loss 0.1347 accuracy 0.95\n"
          ],
          "name": "stdout"
        }
      ]
    },
    {
      "cell_type": "markdown",
      "metadata": {
        "id": "8XWHdOtcRO7W",
        "colab_type": "text"
      },
      "source": [
        "# Deterministic sequence models"
      ]
    },
    {
      "cell_type": "code",
      "metadata": {
        "id": "vGbrR07mYFSh",
        "colab_type": "code",
        "outputId": "a733a214-59c0-4637-f121-04dd24dc3df1",
        "colab": {
          "base_uri": "https://localhost:8080/",
          "height": 35
        }
      },
      "source": [
        "def generator(l):\n",
        "  inputs = list(np.random.randint(2, size=l))\n",
        "  even = [x for i, x in enumerate(inputs) if i % 2 == 0]\n",
        "  repeated = [[x, x] for x in even]\n",
        "  targets = [z for p in repeated for z in p]\n",
        "  yield {\"inputs\": inputs, \"targets\": targets}\n",
        "\n",
        "generator1 = lambda: generator(10)\n",
        "generator2 = lambda: generator(20)\n",
        "\n",
        "print(six.next(generator(6)))"
      ],
      "execution_count": 0,
      "outputs": [
        {
          "output_type": "stream",
          "text": [
            "{'inputs': [0, 0, 1, 0, 1, 1], 'targets': [0, 0, 1, 1, 1, 1]}\n"
          ],
          "name": "stdout"
        }
      ]
    },
    {
      "cell_type": "code",
      "metadata": {
        "id": "cBhZ2-I1RXF5",
        "colab_type": "code",
        "colab": {}
      },
      "source": [
        "# Sequence model with 1 conv layer.\n",
        "\n",
        "# Reset.\n",
        "sess.close()\n",
        "tf.reset_default_graph()\n",
        "sess = tf.Session()\n",
        "\n",
        "# Data.\n",
        "types = {\"inputs\": tf.int64, \"targets\": tf.int64}\n",
        "shapes = {\"inputs\": tf.TensorShape([None]), \"targets\": tf.TensorShape([None])}\n",
        "\n",
        "train_data = tf.data.Dataset.from_generator(\n",
        "    generator1, output_types=types, output_shapes=shapes)\n",
        "eval_data = tf.data.Dataset.from_generator(\n",
        "    generator2, output_types=types, output_shapes=shapes)\n",
        "BATCH_SIZE = 100\n",
        "train_batches = train_data.repeat().batch(BATCH_SIZE)\n",
        "train_batch = train_batches.make_one_shot_iterator().get_next()\n",
        "eval_batches = eval_data.repeat().batch(BATCH_SIZE)\n",
        "eval_batch = eval_batches.make_one_shot_iterator().get_next()\n",
        "\n",
        "# Model\n",
        "def model(batch, mode):\n",
        "  with tf.variable_scope(\"mymodel\", reuse=mode == Modes.EVAL):\n",
        "    # Inputs.\n",
        "    x, y = batch[\"inputs\"], batch[\"targets\"]\n",
        "    x = tf.reshape(x, [BATCH_SIZE, -1, 1])\n",
        "    y = tf.reshape(y, [BATCH_SIZE, -1, 1])\n",
        "    x_hot = tf.one_hot(x, 2)  # From ints to 1-hot vectors.\n",
        "    y_hot = tf.one_hot(y, 2)\n",
        "    x = tf.layers.dense(x_hot, 32, name=\"embedding_x\")\n",
        "    y_emb = tf.layers.dense(y_hot, 32, name=\"embedding_y\")\n",
        "    # Exercise: try enabling the 2 lines below.\n",
        "    # positions = tf.get_variable(\"positions\", [1, 20, 1, 32])\n",
        "    # x += positions[:, :tf.shape(x)[1], :, :]\n",
        "    # Body.\n",
        "    hidden_size = 32\n",
        "    h = tf.layers.conv2d(x, hidden_size, (3, 1),\n",
        "                         padding=\"same\", activation=tf.nn.relu, name=\"hidden\")\n",
        "    o = tf.layers.conv2d(h, 2, (1, 1),\n",
        "                         padding=\"same\", name=\"output\")\n",
        "    # Loss and accuracy.\n",
        "    loss = tf.nn.sparse_softmax_cross_entropy_with_logits(logits=o, labels=y)\n",
        "    accuracy = tf.to_float(tf.equal(tf.argmax(o, axis=-1), y))\n",
        "    return tf.reduce_mean(loss), tf.reduce_mean(accuracy)\n",
        "\n",
        "# Model for train.\n",
        "train_loss, train_accuracy = model(train_batch, Modes.TRAIN)\n",
        "# Gradients.\n",
        "train_op = tf.train.AdamOptimizer().minimize(train_loss)\n",
        "# Model for eval.\n",
        "eval_loss, eval_accuracy = model(eval_batch, Modes.EVAL)"
      ],
      "execution_count": 0,
      "outputs": []
    },
    {
      "cell_type": "code",
      "metadata": {
        "id": "gXT8zEbpXaao",
        "colab_type": "code",
        "outputId": "1870681c-e885-4d31-c16d-dcb01cf683e8",
        "colab": {
          "base_uri": "https://localhost:8080/",
          "height": 781
        }
      },
      "source": [
        "# Train.\n",
        "sess.run(tf.global_variables_initializer())\n",
        "num_steps = 200\n",
        "for step in range(num_steps + 1):\n",
        "  _, loss, accuracy = sess.run([train_op, train_loss, train_accuracy])\n",
        "  if step % 10 == 0:\n",
        "    print(\"Step %d train loss %.4f accuracy %.2f\" % (step, loss, accuracy))\n",
        "    loss, accuracy = sess.run([eval_loss, eval_accuracy])\n",
        "    print(\"Step %d eval loss %.4f accuracy %.2f\" % (step, loss, accuracy))"
      ],
      "execution_count": 0,
      "outputs": [
        {
          "output_type": "stream",
          "text": [
            "Step 0 train loss 0.7191 accuracy 0.53\n",
            "Step 0 eval loss 0.7233 accuracy 0.49\n",
            "Step 10 train loss 0.5942 accuracy 0.76\n",
            "Step 10 eval loss 0.5742 accuracy 0.76\n",
            "Step 20 train loss 0.4912 accuracy 0.78\n",
            "Step 20 eval loss 0.4777 accuracy 0.76\n",
            "Step 30 train loss 0.4384 accuracy 0.75\n",
            "Step 30 eval loss 0.4101 accuracy 0.78\n",
            "Step 40 train loss 0.3727 accuracy 0.78\n",
            "Step 40 eval loss 0.3839 accuracy 0.75\n",
            "Step 50 train loss 0.3481 accuracy 0.77\n",
            "Step 50 eval loss 0.3406 accuracy 0.79\n",
            "Step 60 train loss 0.3269 accuracy 0.80\n",
            "Step 60 eval loss 0.3385 accuracy 0.77\n",
            "Step 70 train loss 0.3195 accuracy 0.81\n",
            "Step 70 eval loss 0.3308 accuracy 0.78\n",
            "Step 80 train loss 0.3115 accuracy 0.80\n",
            "Step 80 eval loss 0.3436 accuracy 0.76\n",
            "Step 90 train loss 0.3185 accuracy 0.80\n",
            "Step 90 eval loss 0.3315 accuracy 0.78\n",
            "Step 100 train loss 0.3176 accuracy 0.80\n",
            "Step 100 eval loss 0.3336 accuracy 0.77\n",
            "Step 110 train loss 0.3076 accuracy 0.80\n",
            "Step 110 eval loss 0.3350 accuracy 0.77\n",
            "Step 120 train loss 0.2904 accuracy 0.81\n",
            "Step 120 eval loss 0.3290 accuracy 0.78\n",
            "Step 130 train loss 0.3049 accuracy 0.80\n",
            "Step 130 eval loss 0.3105 accuracy 0.78\n",
            "Step 140 train loss 0.2945 accuracy 0.80\n",
            "Step 140 eval loss 0.3312 accuracy 0.76\n",
            "Step 150 train loss 0.2990 accuracy 0.79\n",
            "Step 150 eval loss 0.3199 accuracy 0.78\n",
            "Step 160 train loss 0.2996 accuracy 0.80\n",
            "Step 160 eval loss 0.3409 accuracy 0.76\n",
            "Step 170 train loss 0.2959 accuracy 0.80\n",
            "Step 170 eval loss 0.3148 accuracy 0.79\n",
            "Step 180 train loss 0.2942 accuracy 0.81\n",
            "Step 180 eval loss 0.3187 accuracy 0.78\n",
            "Step 190 train loss 0.2830 accuracy 0.82\n",
            "Step 190 eval loss 0.3228 accuracy 0.77\n",
            "Step 200 train loss 0.2845 accuracy 0.79\n",
            "Step 200 eval loss 0.3277 accuracy 0.77\n"
          ],
          "name": "stdout"
        }
      ]
    },
    {
      "cell_type": "markdown",
      "metadata": {
        "id": "jfLujWj4jZmc",
        "colab_type": "text"
      },
      "source": [
        "# Autoregressive sequence models"
      ]
    },
    {
      "cell_type": "code",
      "metadata": {
        "id": "Ohk22OBUjiry",
        "colab_type": "code",
        "outputId": "b4559933-d9e3-4048-8034-4a405fd5a25e",
        "colab": {
          "base_uri": "https://localhost:8080/",
          "height": 35
        }
      },
      "source": [
        "def generator(l):\n",
        "  inputs = list(np.random.randint(2, size=l))\n",
        "  even = [x for i, x in enumerate(inputs) if i % 2 == 0]\n",
        "  repeated = [[x, x] for x in even]\n",
        "  targets1 = [z for p in repeated for z in p]\n",
        "  targets2 = inputs\n",
        "  targets = random.choice([targets1, targets2])\n",
        "  yield {\"inputs\": inputs, \"targets\": targets}\n",
        "\n",
        "generator1 = lambda: generator(10)\n",
        "generator2 = lambda: generator(20)\n",
        "\n",
        "print(six.next(generator(6)))"
      ],
      "execution_count": 0,
      "outputs": [
        {
          "output_type": "stream",
          "text": [
            "{'inputs': [0, 1, 1, 0, 0, 0], 'targets': [0, 1, 1, 0, 0, 0]}\n"
          ],
          "name": "stdout"
        }
      ]
    },
    {
      "cell_type": "code",
      "metadata": {
        "id": "ZyBn6jzOjS0S",
        "colab_type": "code",
        "colab": {}
      },
      "source": [
        "# Sequence model with 1 conv layer.\n",
        "\n",
        "# Reset.\n",
        "sess.close()\n",
        "tf.reset_default_graph()\n",
        "sess = tf.Session()\n",
        "\n",
        "# Data.\n",
        "types = {\"inputs\": tf.int64, \"targets\": tf.int64}\n",
        "shapes = {\"inputs\": tf.TensorShape([None]), \"targets\": tf.TensorShape([None])}\n",
        "\n",
        "train_data = tf.data.Dataset.from_generator(\n",
        "    generator1, output_types=types, output_shapes=shapes)\n",
        "eval_data = tf.data.Dataset.from_generator(\n",
        "    generator2, output_types=types, output_shapes=shapes)\n",
        "BATCH_SIZE = 100\n",
        "train_batches = train_data.repeat().batch(BATCH_SIZE)\n",
        "train_batch = train_batches.make_one_shot_iterator().get_next()\n",
        "eval_batches = eval_data.repeat().batch(BATCH_SIZE)\n",
        "eval_batch = eval_batches.make_one_shot_iterator().get_next()\n",
        "\n",
        "# Model\n",
        "def model(batch, mode):\n",
        "  with tf.variable_scope(\"mymodel\", reuse=mode == Modes.EVAL):\n",
        "    # Inputs.\n",
        "    x, y = batch[\"inputs\"], batch[\"targets\"]\n",
        "    x = tf.reshape(x, [BATCH_SIZE, -1, 1])\n",
        "    y = tf.reshape(y, [BATCH_SIZE, -1, 1])\n",
        "    x_hot = tf.one_hot(x, 2)  # From ints to 1-hot vectors.\n",
        "    y_hot = tf.one_hot(y, 2)\n",
        "    x = tf.layers.dense(x_hot, 32, name=\"embedding_x\")\n",
        "    y_emb = tf.layers.dense(y_hot, 32, name=\"embedding_y\")\n",
        "    positions = tf.scan(lambda a, z: tf.layers.dense(a, 32),\n",
        "                        tf.transpose(x, [1, 0, 2, 3]))\n",
        "    positions = tf.transpose(positions, [1, 0, 2, 3])\n",
        "    x += positions\n",
        "    # Body.\n",
        "    hidden_size = 32\n",
        "    h = tf.layers.conv2d(x, hidden_size, (3, 1),\n",
        "                         padding=\"same\", activation=tf.nn.relu, name=\"hidden\")\n",
        "    # Autoregressive part.\n",
        "    y_shifted = common_layers.shift_right(y_emb)\n",
        "    h += y_shifted\n",
        "    # Attention.\n",
        "    h = tf.expand_dims(tf.squeeze(h, axis=2), axis=1)\n",
        "    q = tf.layers.dense(h, 32, name=\"q\")\n",
        "    k = tf.layers.dense(h, 32, name=\"k\")\n",
        "    v = tf.layers.dense(h, 32, name=\"v\")\n",
        "    bias = common_attention.attention_bias_lower_triangle(\n",
        "              common_layers.shape_list(h)[1])\n",
        "    h += common_attention.dot_product_attention(q, k, v, bias)\n",
        "    h = tf.reshape(h, tf.shape(x))\n",
        "    # Logits.\n",
        "    o = tf.layers.conv2d(h, 2, (1, 1),\n",
        "                         padding=\"same\", name=\"output\")\n",
        "    # Loss and accuracy.\n",
        "    loss = tf.nn.sparse_softmax_cross_entropy_with_logits(logits=o, labels=y)\n",
        "    accuracy = tf.to_float(tf.equal(tf.argmax(o, axis=-1), y))\n",
        "    return tf.reduce_mean(loss), tf.reduce_mean(accuracy)\n",
        "\n",
        "# Model for train.\n",
        "train_loss, train_accuracy = model(train_batch, Modes.TRAIN)\n",
        "# Gradients.\n",
        "train_op = tf.train.AdamOptimizer().minimize(train_loss)\n",
        "# Model for eval.\n",
        "eval_loss, eval_accuracy = model(eval_batch, Modes.EVAL)"
      ],
      "execution_count": 0,
      "outputs": []
    },
    {
      "cell_type": "code",
      "metadata": {
        "id": "CNhxmv4IZ4VU",
        "colab_type": "code",
        "outputId": "52287228-11e6-4616-cb28-a3c0d8be7f8a",
        "colab": {
          "base_uri": "https://localhost:8080/",
          "height": 781
        }
      },
      "source": [
        "# Train.\n",
        "sess.run(tf.global_variables_initializer())\n",
        "num_steps = 200\n",
        "for step in range(num_steps + 1):\n",
        "  _, loss, accuracy = sess.run([train_op, train_loss, train_accuracy])\n",
        "  if step % 10 == 0:\n",
        "    print(\"Step %d train loss %.4f accuracy %.2f\" % (step, loss, accuracy))\n",
        "    loss, accuracy = sess.run([eval_loss, eval_accuracy])\n",
        "    print(\"Step %d eval loss %.4f accuracy %.2f\" % (step, loss, accuracy))"
      ],
      "execution_count": 0,
      "outputs": [
        {
          "output_type": "stream",
          "text": [
            "Step 0 train loss 0.6352 accuracy 0.61\n",
            "Step 0 eval loss 0.6100 accuracy 0.62\n",
            "Step 10 train loss 0.4022 accuracy 0.85\n",
            "Step 10 eval loss 0.3863 accuracy 0.87\n",
            "Step 20 train loss 0.2453 accuracy 0.89\n",
            "Step 20 eval loss 0.2880 accuracy 0.85\n",
            "Step 30 train loss 0.1679 accuracy 0.92\n",
            "Step 30 eval loss 0.2939 accuracy 0.88\n",
            "Step 40 train loss 0.1139 accuracy 0.96\n",
            "Step 40 eval loss 0.1670 accuracy 0.92\n",
            "Step 50 train loss 0.0922 accuracy 0.96\n",
            "Step 50 eval loss 0.0954 accuracy 0.97\n",
            "Step 60 train loss 0.0632 accuracy 0.98\n",
            "Step 60 eval loss 0.1305 accuracy 0.95\n",
            "Step 70 train loss 0.0547 accuracy 0.98\n",
            "Step 70 eval loss 0.0590 accuracy 0.98\n",
            "Step 80 train loss 0.0596 accuracy 0.98\n",
            "Step 80 eval loss 0.0538 accuracy 0.98\n",
            "Step 90 train loss 0.0447 accuracy 0.98\n",
            "Step 90 eval loss 0.0332 accuracy 0.99\n",
            "Step 100 train loss 0.0424 accuracy 0.98\n",
            "Step 100 eval loss 0.0603 accuracy 0.98\n",
            "Step 110 train loss 0.0380 accuracy 0.98\n",
            "Step 110 eval loss 0.0333 accuracy 0.99\n",
            "Step 120 train loss 0.0263 accuracy 0.99\n",
            "Step 120 eval loss 0.0385 accuracy 0.99\n",
            "Step 130 train loss 0.0428 accuracy 0.98\n",
            "Step 130 eval loss 0.0473 accuracy 0.98\n",
            "Step 140 train loss 0.0352 accuracy 0.99\n",
            "Step 140 eval loss 0.0685 accuracy 0.98\n",
            "Step 150 train loss 0.0217 accuracy 0.99\n",
            "Step 150 eval loss 0.0712 accuracy 0.98\n",
            "Step 160 train loss 0.0287 accuracy 0.99\n",
            "Step 160 eval loss 0.1107 accuracy 0.97\n",
            "Step 170 train loss 0.0216 accuracy 1.00\n",
            "Step 170 eval loss 0.0995 accuracy 0.97\n",
            "Step 180 train loss 0.0306 accuracy 0.99\n",
            "Step 180 eval loss 0.1407 accuracy 0.96\n",
            "Step 190 train loss 0.0250 accuracy 0.99\n",
            "Step 190 eval loss 0.0648 accuracy 0.98\n",
            "Step 200 train loss 0.0342 accuracy 0.99\n",
            "Step 200 eval loss 0.0816 accuracy 0.98\n"
          ],
          "name": "stdout"
        }
      ]
    },
    {
      "cell_type": "markdown",
      "metadata": {
        "id": "TNC9fVcnibcH",
        "colab_type": "text"
      },
      "source": [
        "# Run pre-trained translation Transformer model."
      ]
    },
    {
      "cell_type": "code",
      "metadata": {
        "id": "EB4MP7_y_SuQ",
        "colab_type": "code",
        "outputId": "39eef0c9-9542-404a-c6bf-8904cccf24d3",
        "colab": {
          "base_uri": "https://localhost:8080/",
          "height": 72
        }
      },
      "source": [
        "# Reset.\n",
        "sess.close()\n",
        "tf.reset_default_graph()\n",
        "sess = tf.Session()\n",
        "\n",
        "# Fetch the problem\n",
        "# problems.available()\n",
        "ende_problem = problems.problem(\"translate_ende_wmt32k\")\n",
        "\n",
        "# Copy the vocab file locally so we can encode inputs and decode model outputs\n",
        "# All vocabs are stored on GCS\n",
        "vocab_name = \"vocab.ende.32768\"\n",
        "vocab_file = os.path.join(gs_data_dir, vocab_name)\n",
        "!gsutil cp {vocab_file} {data_dir}\n",
        "\n",
        "# Get the encoders from the problem\n",
        "encoders = ende_problem.feature_encoders(data_dir)\n",
        "\n",
        "# Setup helper functions for encoding and decoding\n",
        "def encode(input_str, output_str=None):\n",
        "  \"\"\"Input str to features dict, ready for inference\"\"\"\n",
        "  inputs = encoders[\"inputs\"].encode(input_str) + [1]  # add EOS id\n",
        "  batch_inputs = tf.reshape(tf.constant(inputs), [1, -1, 1])  # Make it 3D.\n",
        "  return {\"inputs\": batch_inputs}\n",
        "\n",
        "def decode(integers):\n",
        "  \"\"\"List of ints to str\"\"\"\n",
        "  integers = list(np.squeeze(integers))\n",
        "  if 1 in integers:\n",
        "    integers = integers[:integers.index(1)]\n",
        "  return encoders[\"inputs\"].decode(np.squeeze(integers))"
      ],
      "execution_count": 0,
      "outputs": [
        {
          "output_type": "stream",
          "text": [
            "Copying gs://tensor2tensor-data/vocab.ende.32768...\n",
            "/ [1 files][316.4 KiB/316.4 KiB]                                                \n",
            "Operation completed over 1 objects/316.4 KiB.                                    \n"
          ],
          "name": "stdout"
        }
      ]
    },
    {
      "cell_type": "code",
      "metadata": {
        "id": "g2aQW7Z6TOEu",
        "colab_type": "code",
        "colab": {}
      },
      "source": [
        "# # Generate and view the data\n",
        "# # This cell is commented out because WMT data generation can take hours\n",
        "\n",
        "# ende_problem.generate_data(data_dir, tmp_dir)\n",
        "# example = tfe.Iterator(ende_problem.dataset(Modes.TRAIN, data_dir)).next()\n",
        "# inputs = [int(x) for x in example[\"inputs\"].numpy()] # Cast to ints.\n",
        "# targets = [int(x) for x in example[\"targets\"].numpy()] # Cast to ints.\n",
        "\n",
        "\n",
        "\n",
        "# # Example inputs as int-tensor.\n",
        "# print(\"Inputs, encoded:\")\n",
        "# print(inputs)\n",
        "# print(\"Inputs, decoded:\")\n",
        "# # Example inputs as a sentence.\n",
        "# print(decode(inputs))\n",
        "# # Example targets as int-tensor.\n",
        "# print(\"Targets, encoded:\")\n",
        "# print(targets)\n",
        "# # Example targets as a sentence.\n",
        "# print(\"Targets, decoded:\")\n",
        "# print(decode(targets))"
      ],
      "execution_count": 0,
      "outputs": []
    },
    {
      "cell_type": "code",
      "metadata": {
        "id": "9l6hDQbrRUYV",
        "colab_type": "code",
        "outputId": "5a4728c2-5614-4a80-c0eb-a68acb94c4ed",
        "colab": {
          "base_uri": "https://localhost:8080/",
          "height": 126
        }
      },
      "source": [
        "# Create hparams and the model\n",
        "# registry.list_models()\n",
        "model_name = \"transformer\"\n",
        "hparams_set = \"transformer_base\"\n",
        "\n",
        "hparams = trainer_lib.create_hparams(hparams_set, data_dir=data_dir, problem_name=\"translate_ende_wmt32k\")\n",
        "\n",
        "# NOTE: Only create the model once when restoring from a checkpoint; it's a\n",
        "# Layer and so subsequent instantiations will have different variable scopes\n",
        "# that will not match the checkpoint.\n",
        "translate_model = registry.model(model_name)(hparams, Modes.EVAL)"
      ],
      "execution_count": 0,
      "outputs": [
        {
          "output_type": "stream",
          "text": [
            "INFO:tensorflow:Setting T2TModel mode to 'eval'\n",
            "INFO:tensorflow:Setting hparams.layer_prepostprocess_dropout to 0.0\n",
            "INFO:tensorflow:Setting hparams.symbol_dropout to 0.0\n",
            "INFO:tensorflow:Setting hparams.attention_dropout to 0.0\n",
            "INFO:tensorflow:Setting hparams.dropout to 0.0\n",
            "INFO:tensorflow:Setting hparams.relu_dropout to 0.0\n"
          ],
          "name": "stdout"
        }
      ]
    },
    {
      "cell_type": "code",
      "metadata": {
        "id": "FEwNUVlMYOJi",
        "colab_type": "code",
        "outputId": "fc26cb5f-18e1-4dbb-8b51-d50d00559fa5",
        "colab": {
          "base_uri": "https://localhost:8080/",
          "height": 35
        }
      },
      "source": [
        "# Copy the pretrained checkpoint locally\n",
        "ckpt_name = \"transformer_ende_test\"\n",
        "gs_ckpt = os.path.join(gs_ckpt_dir, ckpt_name)\n",
        "!gsutil -q cp -R {gs_ckpt} {checkpoint_dir}\n",
        "ckpt_path = tf.train.latest_checkpoint(os.path.join(checkpoint_dir, ckpt_name))\n",
        "ckpt_path"
      ],
      "execution_count": 0,
      "outputs": [
        {
          "output_type": "execute_result",
          "data": {
            "text/plain": [
              "u'/content/t2t/checkpoints/transformer_ende_test/model.ckpt-3817425'"
            ]
          },
          "metadata": {
            "tags": []
          },
          "execution_count": 18
        }
      ]
    },
    {
      "cell_type": "code",
      "metadata": {
        "id": "3O-8E9d6TtuJ",
        "colab_type": "code",
        "outputId": "79046894-d8f1-4e14-e438-c7e66e869981",
        "colab": {
          "base_uri": "https://localhost:8080/",
          "height": 90
        }
      },
      "source": [
        "# Restore and translate!\n",
        "def translate(inputs):\n",
        "  encoded_inputs = encode(inputs)\n",
        "  model_output = translate_model.infer(encoded_inputs)[\"outputs\"]\n",
        "  tf.train.Saver().restore(sess, ckpt_path)\n",
        "  return decode(sess.run(model_output))\n",
        "\n",
        "inputs = \"The animal didn't cross the street because it was too tired\"\n",
        "outputs = translate(inputs)\n",
        "\n",
        "print(\"Inputs: %s\" % inputs)\n",
        "print(\"Outputs: %s\" % outputs)"
      ],
      "execution_count": 0,
      "outputs": [
        {
          "output_type": "stream",
          "text": [
            "INFO:tensorflow:Greedy Decoding\n",
            "INFO:tensorflow:Restoring parameters from /content/t2t/checkpoints/transformer_ende_test/model.ckpt-3817425\n",
            "Inputs: The animal didn't cross the street because it was too tired\n",
            "Outputs: Das Tier überquerte nicht die Straße, weil es zu müde war.\n"
          ],
          "name": "stdout"
        }
      ]
    }
  ]
}